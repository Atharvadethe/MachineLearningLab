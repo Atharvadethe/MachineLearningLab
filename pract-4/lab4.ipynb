{
  "nbformat": 4,
  "nbformat_minor": 0,
  "metadata": {
    "colab": {
      "provenance": []
    },
    "kernelspec": {
      "name": "python3",
      "display_name": "Python 3"
    },
    "language_info": {
      "name": "python"
    }
  },
  "cells": [
    {
      "cell_type": "code",
      "execution_count": null,
      "metadata": {
        "id": "6EOT_u99-g8I"
      },
      "outputs": [],
      "source": [
        "import numpy as np\n",
        "import pandas as pd\n",
        "import matplotlib.pyplot as plt\n"
      ]
    },
    {
      "cell_type": "code",
      "source": [
        "data = np.array([\n",
        "    [2.5, 2.4, 1.2],\n",
        "    [0.5, 0.7, 0.3],\n",
        "    [2.2, 2.9, 1.4],\n",
        "    [1.9, 2.2, 1.1],\n",
        "    [3.1, 3.0, 1.7],\n",
        "    [2.3, 2.7, 1.5],\n",
        "    [1.0, 1.1, 0.4],\n",
        "    [1.5, 1.6, 0.8],\n",
        "    [1.1, 0.9, 0.2]\n",
        "])\n",
        "df = pd.DataFrame(data, columns=[\"X\", \"Y\", \"Z\"])\n",
        "df\n",
        "data = np.append(data, [[1,2,3]], axis=0)\n",
        "data"
      ],
      "metadata": {
        "colab": {
          "base_uri": "https://localhost:8080/"
        },
        "id": "fwU5QZVb_FE2",
        "outputId": "ca09af03-46e8-496e-b4c6-8c2820619dec"
      },
      "execution_count": null,
      "outputs": [
        {
          "output_type": "execute_result",
          "data": {
            "text/plain": [
              "array([[2.5, 2.4, 1.2],\n",
              "       [0.5, 0.7, 0.3],\n",
              "       [2.2, 2.9, 1.4],\n",
              "       [1.9, 2.2, 1.1],\n",
              "       [3.1, 3. , 1.7],\n",
              "       [2.3, 2.7, 1.5],\n",
              "       [1. , 1.1, 0.4],\n",
              "       [1.5, 1.6, 0.8],\n",
              "       [1.1, 0.9, 0.2],\n",
              "       [1. , 2. , 3. ]])"
            ]
          },
          "metadata": {},
          "execution_count": 17
        }
      ]
    },
    {
      "cell_type": "code",
      "source": [],
      "metadata": {
        "colab": {
          "base_uri": "https://localhost:8080/",
          "height": 141
        },
        "id": "jKH4WNeYLXI4",
        "outputId": "70f0371f-50a1-4627-ee71-9bbdfbd95b91"
      },
      "execution_count": null,
      "outputs": [
        {
          "output_type": "error",
          "ename": "AttributeError",
          "evalue": "'numpy.ndarray' object has no attribute 'append'",
          "traceback": [
            "\u001b[0;31m---------------------------------------------------------------------------\u001b[0m",
            "\u001b[0;31mAttributeError\u001b[0m                            Traceback (most recent call last)",
            "\u001b[0;32m/tmp/ipython-input-802466994.py\u001b[0m in \u001b[0;36m<cell line: 0>\u001b[0;34m()\u001b[0m\n\u001b[0;32m----> 1\u001b[0;31m \u001b[0mdata\u001b[0m\u001b[0;34m.\u001b[0m\u001b[0mappend\u001b[0m\u001b[0;34m(\u001b[0m\u001b[0;34m[\u001b[0m\u001b[0;36m1\u001b[0m\u001b[0;34m,\u001b[0m\u001b[0;36m2\u001b[0m\u001b[0;34m,\u001b[0m\u001b[0;36m3\u001b[0m\u001b[0;34m]\u001b[0m\u001b[0;34m)\u001b[0m\u001b[0;34m\u001b[0m\u001b[0;34m\u001b[0m\u001b[0m\n\u001b[0m",
            "\u001b[0;31mAttributeError\u001b[0m: 'numpy.ndarray' object has no attribute 'append'"
          ]
        }
      ]
    },
    {
      "cell_type": "code",
      "source": [
        "standardized_data = (df - df.mean())\n",
        "df.std()"
      ],
      "metadata": {
        "id": "nKltLAefAhj_"
      },
      "execution_count": null,
      "outputs": []
    },
    {
      "cell_type": "code",
      "source": [
        "cov_matrix = np.cov(standardized_data.T)"
      ],
      "metadata": {
        "id": "D_oq_73qBNLm"
      },
      "execution_count": null,
      "outputs": []
    },
    {
      "cell_type": "code",
      "source": [
        "eig_vals , eig_vecs = np.linalg.eig(cov_matrix)\n",
        "eig_vals"
      ],
      "metadata": {
        "id": "_9zc3fCZBcA-"
      },
      "execution_count": null,
      "outputs": []
    },
    {
      "cell_type": "code",
      "source": [
        "#Step 5: Sort eigenvalues and eigen vectors\n",
        "sorted_indices = np.argsort(eig_vals)[::-1]\n",
        "eig_vals = eig_vals[sorted_indices]\n",
        "eig_vecs = eig_vecs[:, sorted_indices]"
      ],
      "metadata": {
        "id": "2aO5HujsByRA"
      },
      "execution_count": null,
      "outputs": []
    },
    {
      "cell_type": "code",
      "source": [
        "#Step 6: Select top 2 eigenvectors\n",
        "eig_vecs_subset = eig_vecs[:, :2]"
      ],
      "metadata": {
        "id": "X199rxk8COSR"
      },
      "execution_count": null,
      "outputs": []
    },
    {
      "cell_type": "code",
      "source": [
        "#Step 7: Project data to new basis\n",
        "reduced_data = standardized_data.to_numpy().dot(eig_vecs_subset)\n",
        "reduced_df = pd.DataFrame(reduced_data, columns=[\"PC1\", \"PC2\"])"
      ],
      "metadata": {
        "id": "XgtOQVF4Cp-Z"
      },
      "execution_count": null,
      "outputs": []
    },
    {
      "cell_type": "code",
      "source": [
        "#Step 8: Output the reduced data\n",
        "print(\"\\nReduced Data (after PCA):\\n\", reduced_df)\n"
      ],
      "metadata": {
        "id": "oJsIaPMIC9QQ"
      },
      "execution_count": null,
      "outputs": []
    },
    {
      "cell_type": "code",
      "source": [
        "#Step 9: Visualize\n",
        "plt.figure(figsize=(8,6))\n",
        "plt.scatter(reduced_df['PC1'],\n",
        "reduced_df['PC2'], color='blue', edgecolor='k')\n",
        "plt.title('2D PCA Projection')\n",
        "plt.xlabel('Principal Component 1')\n",
        "plt.ylabel('Principal Component 2')\n",
        "plt.grid(True)\n",
        "plt.show()"
      ],
      "metadata": {
        "id": "LYMbUfwNFAOW"
      },
      "execution_count": null,
      "outputs": []
    }
  ]
}